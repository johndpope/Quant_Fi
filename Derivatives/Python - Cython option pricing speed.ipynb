{
 "cells": [
  {
   "cell_type": "markdown",
   "metadata": {},
   "source": [
    "# Python version of Black-Scholes Model"
   ]
  },
  {
   "cell_type": "code",
   "execution_count": 3,
   "metadata": {},
   "outputs": [],
   "source": [
    "from scipy import stats\n",
    "import math\n",
    "import time\n",
    "\n",
    "def BSM(S, K, T, V, r, div, cp):\n",
    "    \"\"\"\n",
    "    S : S0 initial stock price\n",
    "    K : Strike\n",
    "    T : Exp time in years\n",
    "    V : Volatility (sigma)\n",
    "    r : Risk free rate\n",
    "    div : Dividend or not\n",
    "    cp : +1 / -1 for call / put\n",
    "    \"\"\"\n",
    "    d1 = (math.log(S/K)+(r-div+0.5*math.pow(V,2))*T) / (V*math.sqrt(T))\n",
    "    d2 = d1 - V*math.sqrt(T)\n",
    "    \n",
    "    optprice = cp * S * math.exp(-div*T)*stats.norm.cdf(cp*d1) - cp*K*math.exp(-r*T)*stats.norm.cdf(cp*d2)\n",
    "    return optprice"
   ]
  },
  {
   "cell_type": "code",
   "execution_count": 4,
   "metadata": {
    "scrolled": false
   },
   "outputs": [
    {
     "name": "stdout",
     "output_type": "stream",
     "text": [
      "371 µs ± 64.6 µs per loop (mean ± std. dev. of 7 runs, 1000 loops each)\n"
     ]
    }
   ],
   "source": [
    "%timeit BSM(50,50,0.4167,0.4,0.1,0,-1)"
   ]
  },
  {
   "cell_type": "markdown",
   "metadata": {},
   "source": [
    "# Cython version "
   ]
  },
  {
   "cell_type": "code",
   "execution_count": 36,
   "metadata": {},
   "outputs": [
    {
     "name": "stdout",
     "output_type": "stream",
     "text": [
      "The cython extension is already loaded. To reload it, use:\n",
      "  %reload_ext cython\n"
     ]
    }
   ],
   "source": [
    "import pyximport\n",
    "pyximport.install()\n",
    "%load_ext cython"
   ]
  },
  {
   "cell_type": "code",
   "execution_count": 44,
   "metadata": {},
   "outputs": [],
   "source": [
    "%%cython\n",
    "cdef extern from \"math.h\" nogil:\n",
    "    double exp(double)\n",
    "    double log(double)\n",
    "    double pow(double, double)\n",
    "    double sqrt(double)\n",
    "    double erf(double) # Error function\n",
    "\n",
    "cdef double std_norm_cdf(double x):\n",
    "    return 0.5 * (1 + erf(x / sqrt(2.0)))\n",
    "\n",
    "cpdef BSM_C(double S, double K, double T, double V, double r, double div, double cp):\n",
    "    cdef double d1, d2, optprice\n",
    "    d1 = (log(S / K) + (r - div + 0.5 * pow(V, 2)) * T) / (V * sqrt(T))\n",
    "    d2 = d1 - V * sqrt(T)\n",
    "    optprice = cp * S * exp(-div * T) * std_norm_cdf(cp * d1) - cp * K * exp(-r * T) * std_norm_cdf(cp * d2)\n",
    "    return optprice"
   ]
  },
  {
   "cell_type": "code",
   "execution_count": 45,
   "metadata": {
    "scrolled": false
   },
   "outputs": [
    {
     "name": "stdout",
     "output_type": "stream",
     "text": [
      "200 ns ± 6.43 ns per loop (mean ± std. dev. of 7 runs, 1000000 loops each)\n"
     ]
    }
   ],
   "source": [
    "%timeit BSM_C(50.0,50.0,0.4167,0.4,0.1,0.0,-1)"
   ]
  },
  {
   "cell_type": "markdown",
   "metadata": {},
   "source": [
    "#### Only 200 nanoseconds this time, huge improvement"
   ]
  },
  {
   "cell_type": "code",
   "execution_count": null,
   "metadata": {},
   "outputs": [],
   "source": []
  }
 ],
 "metadata": {
  "kernelspec": {
   "display_name": "Python 3",
   "language": "python",
   "name": "python3"
  },
  "language_info": {
   "codemirror_mode": {
    "name": "ipython",
    "version": 3
   },
   "file_extension": ".py",
   "mimetype": "text/x-python",
   "name": "python",
   "nbconvert_exporter": "python",
   "pygments_lexer": "ipython3",
   "version": "3.6.4"
  }
 },
 "nbformat": 4,
 "nbformat_minor": 2
}
